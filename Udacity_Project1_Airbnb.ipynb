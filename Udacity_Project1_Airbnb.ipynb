{
  "nbformat": 4,
  "nbformat_minor": 0,
  "metadata": {
    "colab": {
      "name": "Udacity_Project1_Airbnb.ipynb",
      "provenance": [],
      "collapsed_sections": [],
      "include_colab_link": true
    },
    "kernelspec": {
      "name": "python3",
      "display_name": "Python 3"
    },
    "language_info": {
      "name": "python"
    }
  },
  "cells": [
    {
      "cell_type": "markdown",
      "metadata": {
        "id": "view-in-github",
        "colab_type": "text"
      },
      "source": [
        "<a href=\"https://colab.research.google.com/github/junjunmeng/Airbnb/blob/main/Udacity_Project1_Airbnb.ipynb\" target=\"_parent\"><img src=\"https://colab.research.google.com/assets/colab-badge.svg\" alt=\"Open In Colab\"/></a>"
      ]
    },
    {
      "cell_type": "markdown",
      "metadata": {
        "id": "XnAbHOORgqQq"
      },
      "source": [
        "# Seattle Airbnb \n",
        " ## Dataset: https://www.kaggle.com/airbnb/seattle\n",
        "  ## Inspiration: http://insideairbnb.com/seattle/\n",
        "\n",
        " ## Business questions:\n",
        "  - Can you describe the vibe of each Seattle neighborhood using listing descriptions?\n",
        "  - What are the busiest times of the year to visit Seattle? By how much do prices spike?\n",
        "  - Is there a general upward trend of both new Airbnb listings and total Airbnb visitors to Seattle?\n"
      ]
    },
    {
      "cell_type": "code",
      "metadata": {
        "colab": {
          "base_uri": "https://localhost:8080/"
        },
        "id": "VXbxyuFPDHt1",
        "outputId": "eab468e1-fa24-4b10-fe01-91dbf7cd43ec"
      },
      "source": [
        "from google.colab import drive\n",
        "drive.mount('/content/drive')\n",
        "# set working directory\n",
        "\n",
        "import os\n",
        "os.chdir('/content/drive/MyDrive/U-udacity/Project1')\n"
      ],
      "execution_count": 3,
      "outputs": [
        {
          "output_type": "stream",
          "text": [
            "Mounted at /content/drive\n"
          ],
          "name": "stdout"
        }
      ]
    },
    {
      "cell_type": "code",
      "metadata": {
        "id": "UInur5VmfP1N"
      },
      "source": [
        "import numpy as np\n",
        "import pandas as pd\n",
        "import matplotlib.pyplot as plt\n",
        "from sklearn.linear_model import LinearRegression\n",
        "from sklearn.model_selection import train_test_split\n",
        "from sklearn.metrics import r2_score, mean_squared_error\n",
        "import seaborn as sns\n",
        "%matplotlib inline\n"
      ],
      "execution_count": 5,
      "outputs": []
    },
    {
      "cell_type": "code",
      "metadata": {
        "id": "nMJvaz6Tf6QD"
      },
      "source": [
        "calendar = pd.read_csv('calendar.csv')\n",
        "# print(calendar.shape)\n",
        "# print(calendar.columns)\n",
        "# calendar.head()\n",
        "\n",
        "listing = pd.read_csv('listings.csv')\n",
        "# print(listing.shape)\n",
        "# print(listing.columns)\n",
        "# # listing.head()\n",
        "\n",
        "review = pd.read_csv('reviews.csv')\n",
        "# print(review.shape)\n",
        "# print(review.columns)\n",
        "# # review.head()\n"
      ],
      "execution_count": 6,
      "outputs": []
    },
    {
      "cell_type": "markdown",
      "metadata": {
        "id": "BbeSQ1Dsgoyw"
      },
      "source": [
        "### 1. Describe the vibe of each Seattle neighborhood using listing descriptions?\n",
        "\n",
        "---\n"
      ]
    },
    {
      "cell_type": "code",
      "metadata": {
        "id": "wiXW0om-Mrr-"
      },
      "source": [
        "# convert currency to number  \n",
        "listing['price'] = listing['price'].replace('[\\$,]', '', regex = True).astype(float)\n",
        "calendar['price'] = calendar['price'].replace('[\\$,]', '', regex = True).astype(float)\n",
        "\n",
        "# get year from calendar dataframe\n",
        "calendar['year'] = calendar['date'].year()\n",
        "calendar['month'] = calendar['date'].month()\n"
      ],
      "execution_count": 7,
      "outputs": []
    },
    {
      "cell_type": "code",
      "metadata": {
        "id": "NNmwmdUY4kH3"
      },
      "source": [
        "# get year from calendar dataframe\n",
        "import datetime\n",
        "calendar['year'] = pd.DatetimeIndex(calendar['date']).year\n",
        "calendar['month'] = pd.DatetimeIndex(calendar['date']).month"
      ],
      "execution_count": 14,
      "outputs": []
    },
    {
      "cell_type": "code",
      "metadata": {
        "colab": {
          "base_uri": "https://localhost:8080/",
          "height": 462
        },
        "id": "HXWSY1ya2wCQ",
        "outputId": "73f7884b-2014-4b7d-a549-e3ca74fc8f6b"
      },
      "source": [
        "# the mean price of host_neighbourhood\n",
        "from matplotlib.pyplot import figure\n",
        "\n",
        "figure(figsize=(8, 6), dpi=80)\n",
        "\n",
        "meanPrice_neighbour = listing.groupby('host_neighbourhood')['price'].mean().sort_values()\n",
        "\n",
        "meanPrice_neighbour.reset_index(name =  \"mean_price\")\n",
        "\n",
        "fig = meanPrice_neighbour.plot()\n",
        "plt.title(\"Mean price by host neighborhood\")"
      ],
      "execution_count": 31,
      "outputs": [
        {
          "output_type": "execute_result",
          "data": {
            "text/plain": [
              "Text(0.5, 1.0, 'Mean price by host neighborhood')"
            ]
          },
          "metadata": {
            "tags": []
          },
          "execution_count": 31
        },
        {
          "output_type": "display_data",
          "data": {
            "image/png": "[encoded data removed]",
            "text/plain": [
              "<Figure size 640x480 with 1 Axes>"
            ]
          },
          "metadata": {
            "tags": [],
            "needs_background": "light"
          }
        }
      ]
    },
    {
      "cell_type": "markdown",
      "metadata": {
        "id": "EwZMm8PI7xPp"
      },
      "source": [
        "#### use a price per square feet to gauge the price of neighbourhood"
      ]
    },
    {
      "cell_type": "code",
      "metadata": {
        "id": "-5hMHZF1xCPG",
        "colab": {
          "base_uri": "https://localhost:8080/",
          "height": 317
        },
        "outputId": "38500b28-fc02-43c2-e6b8-43f37a24d4dc"
      },
      "source": [
        "# price/sq \n",
        "listing['pricePerSf'] = listing['price']/listing['square_feet']\n",
        "listing.describe()"
      ],
      "execution_count": 43,
      "outputs": [
        {
          "output_type": "execute_result",
          "data": {
            "text/html": [
              "<div>\n",
              "<style scoped>\n",
              "    .dataframe tbody tr th:only-of-type {\n",
              "        vertical-align: middle;\n",
              "    }\n",
              "\n",
              "    .dataframe tbody tr th {\n",
              "        vertical-align: top;\n",
              "    }\n",
              "\n",
              "    .dataframe thead th {\n",
              "        text-align: right;\n",
              "    }\n",
              "</style>\n",
              "<table border=\"1\" class=\"dataframe\">\n",
              "  <thead>\n",
              "    <tr style=\"text-align: right;\">\n",
              "      <th></th>\n",
              "      <th>id</th>\n",
              "      <th>scrape_id</th>\n",
              "      <th>host_id</th>\n",
              "      <th>host_listings_count</th>\n",
              "      <th>host_total_listings_count</th>\n",
              "      <th>latitude</th>\n",
              "      <th>longitude</th>\n",
              "      <th>accommodates</th>\n",
              "      <th>bathrooms</th>\n",
              "      <th>bedrooms</th>\n",
              "      <th>beds</th>\n",
              "      <th>square_feet</th>\n",
              "      <th>price</th>\n",
              "      <th>guests_included</th>\n",
              "      <th>minimum_nights</th>\n",
              "      <th>maximum_nights</th>\n",
              "      <th>availability_30</th>\n",
              "      <th>availability_60</th>\n",
              "      <th>availability_90</th>\n",
              "      <th>availability_365</th>\n",
              "      <th>number_of_reviews</th>\n",
              "      <th>review_scores_rating</th>\n",
              "      <th>review_scores_accuracy</th>\n",
              "      <th>review_scores_cleanliness</th>\n",
              "      <th>review_scores_checkin</th>\n",
              "      <th>review_scores_communication</th>\n",
              "      <th>review_scores_location</th>\n",
              "      <th>review_scores_value</th>\n",
              "      <th>license</th>\n",
              "      <th>calculated_host_listings_count</th>\n",
              "      <th>reviews_per_month</th>\n",
              "      <th>pricePerSf</th>\n",
              "    </tr>\n",
              "  </thead>\n",
              "  <tbody>\n",
              "    <tr>\n",
              "      <th>count</th>\n",
              "      <td>3.818000e+03</td>\n",
              "      <td>3.818000e+03</td>\n",
              "      <td>3.818000e+03</td>\n",
              "      <td>3816.000000</td>\n",
              "      <td>3816.000000</td>\n",
              "      <td>3818.000000</td>\n",
              "      <td>3818.000000</td>\n",
              "      <td>3818.000000</td>\n",
              "      <td>3802.000000</td>\n",
              "      <td>3812.000000</td>\n",
              "      <td>3817.000000</td>\n",
              "      <td>97.000000</td>\n",
              "      <td>3818.000000</td>\n",
              "      <td>3818.000000</td>\n",
              "      <td>3818.000000</td>\n",
              "      <td>3818.000000</td>\n",
              "      <td>3818.000000</td>\n",
              "      <td>3818.000000</td>\n",
              "      <td>3818.000000</td>\n",
              "      <td>3818.000000</td>\n",
              "      <td>3818.000000</td>\n",
              "      <td>3171.000000</td>\n",
              "      <td>3160.000000</td>\n",
              "      <td>3165.000000</td>\n",
              "      <td>3160.000000</td>\n",
              "      <td>3167.000000</td>\n",
              "      <td>3163.000000</td>\n",
              "      <td>3162.000000</td>\n",
              "      <td>0.0</td>\n",
              "      <td>3818.000000</td>\n",
              "      <td>3191.000000</td>\n",
              "      <td>97.000000</td>\n",
              "    </tr>\n",
              "    <tr>\n",
              "      <th>mean</th>\n",
              "      <td>5.550111e+06</td>\n",
              "      <td>2.016010e+13</td>\n",
              "      <td>1.578556e+07</td>\n",
              "      <td>7.157757</td>\n",
              "      <td>7.157757</td>\n",
              "      <td>47.628961</td>\n",
              "      <td>-122.333103</td>\n",
              "      <td>3.349398</td>\n",
              "      <td>1.259469</td>\n",
              "      <td>1.307712</td>\n",
              "      <td>1.735394</td>\n",
              "      <td>854.618557</td>\n",
              "      <td>127.976166</td>\n",
              "      <td>1.672603</td>\n",
              "      <td>2.369303</td>\n",
              "      <td>780.447617</td>\n",
              "      <td>16.786276</td>\n",
              "      <td>36.814825</td>\n",
              "      <td>58.082504</td>\n",
              "      <td>244.772656</td>\n",
              "      <td>22.223415</td>\n",
              "      <td>94.539262</td>\n",
              "      <td>9.636392</td>\n",
              "      <td>9.556398</td>\n",
              "      <td>9.786709</td>\n",
              "      <td>9.809599</td>\n",
              "      <td>9.608916</td>\n",
              "      <td>9.452245</td>\n",
              "      <td>NaN</td>\n",
              "      <td>2.946307</td>\n",
              "      <td>2.078919</td>\n",
              "      <td>inf</td>\n",
              "    </tr>\n",
              "    <tr>\n",
              "      <th>std</th>\n",
              "      <td>2.962660e+06</td>\n",
              "      <td>0.000000e+00</td>\n",
              "      <td>1.458382e+07</td>\n",
              "      <td>28.628149</td>\n",
              "      <td>28.628149</td>\n",
              "      <td>0.043052</td>\n",
              "      <td>0.031745</td>\n",
              "      <td>1.977599</td>\n",
              "      <td>0.590369</td>\n",
              "      <td>0.883395</td>\n",
              "      <td>1.139480</td>\n",
              "      <td>671.404893</td>\n",
              "      <td>90.250022</td>\n",
              "      <td>1.311040</td>\n",
              "      <td>16.305902</td>\n",
              "      <td>1683.589007</td>\n",
              "      <td>12.173637</td>\n",
              "      <td>23.337541</td>\n",
              "      <td>34.063845</td>\n",
              "      <td>126.772526</td>\n",
              "      <td>37.730892</td>\n",
              "      <td>6.606083</td>\n",
              "      <td>0.698031</td>\n",
              "      <td>0.797274</td>\n",
              "      <td>0.595499</td>\n",
              "      <td>0.568211</td>\n",
              "      <td>0.629053</td>\n",
              "      <td>0.750259</td>\n",
              "      <td>NaN</td>\n",
              "      <td>5.893029</td>\n",
              "      <td>1.822348</td>\n",
              "      <td>NaN</td>\n",
              "    </tr>\n",
              "    <tr>\n",
              "      <th>min</th>\n",
              "      <td>3.335000e+03</td>\n",
              "      <td>2.016010e+13</td>\n",
              "      <td>4.193000e+03</td>\n",
              "      <td>1.000000</td>\n",
              "      <td>1.000000</td>\n",
              "      <td>47.505088</td>\n",
              "      <td>-122.417219</td>\n",
              "      <td>1.000000</td>\n",
              "      <td>0.000000</td>\n",
              "      <td>0.000000</td>\n",
              "      <td>1.000000</td>\n",
              "      <td>0.000000</td>\n",
              "      <td>20.000000</td>\n",
              "      <td>0.000000</td>\n",
              "      <td>1.000000</td>\n",
              "      <td>1.000000</td>\n",
              "      <td>0.000000</td>\n",
              "      <td>0.000000</td>\n",
              "      <td>0.000000</td>\n",
              "      <td>0.000000</td>\n",
              "      <td>0.000000</td>\n",
              "      <td>20.000000</td>\n",
              "      <td>2.000000</td>\n",
              "      <td>3.000000</td>\n",
              "      <td>2.000000</td>\n",
              "      <td>2.000000</td>\n",
              "      <td>4.000000</td>\n",
              "      <td>2.000000</td>\n",
              "      <td>NaN</td>\n",
              "      <td>1.000000</td>\n",
              "      <td>0.020000</td>\n",
              "      <td>0.020000</td>\n",
              "    </tr>\n",
              "    <tr>\n",
              "      <th>25%</th>\n",
              "      <td>3.258256e+06</td>\n",
              "      <td>2.016010e+13</td>\n",
              "      <td>3.275204e+06</td>\n",
              "      <td>1.000000</td>\n",
              "      <td>1.000000</td>\n",
              "      <td>47.609418</td>\n",
              "      <td>-122.354320</td>\n",
              "      <td>2.000000</td>\n",
              "      <td>1.000000</td>\n",
              "      <td>1.000000</td>\n",
              "      <td>1.000000</td>\n",
              "      <td>420.000000</td>\n",
              "      <td>75.000000</td>\n",
              "      <td>1.000000</td>\n",
              "      <td>1.000000</td>\n",
              "      <td>60.000000</td>\n",
              "      <td>2.000000</td>\n",
              "      <td>13.000000</td>\n",
              "      <td>28.000000</td>\n",
              "      <td>124.000000</td>\n",
              "      <td>2.000000</td>\n",
              "      <td>93.000000</td>\n",
              "      <td>9.000000</td>\n",
              "      <td>9.000000</td>\n",
              "      <td>10.000000</td>\n",
              "      <td>10.000000</td>\n",
              "      <td>9.000000</td>\n",
              "      <td>9.000000</td>\n",
              "      <td>NaN</td>\n",
              "      <td>1.000000</td>\n",
              "      <td>0.695000</td>\n",
              "      <td>0.131667</td>\n",
              "    </tr>\n",
              "    <tr>\n",
              "      <th>50%</th>\n",
              "      <td>6.118244e+06</td>\n",
              "      <td>2.016010e+13</td>\n",
              "      <td>1.055814e+07</td>\n",
              "      <td>1.000000</td>\n",
              "      <td>1.000000</td>\n",
              "      <td>47.623601</td>\n",
              "      <td>-122.328874</td>\n",
              "      <td>3.000000</td>\n",
              "      <td>1.000000</td>\n",
              "      <td>1.000000</td>\n",
              "      <td>1.000000</td>\n",
              "      <td>750.000000</td>\n",
              "      <td>100.000000</td>\n",
              "      <td>1.000000</td>\n",
              "      <td>2.000000</td>\n",
              "      <td>1125.000000</td>\n",
              "      <td>20.000000</td>\n",
              "      <td>46.000000</td>\n",
              "      <td>73.000000</td>\n",
              "      <td>308.000000</td>\n",
              "      <td>9.000000</td>\n",
              "      <td>96.000000</td>\n",
              "      <td>10.000000</td>\n",
              "      <td>10.000000</td>\n",
              "      <td>10.000000</td>\n",
              "      <td>10.000000</td>\n",
              "      <td>10.000000</td>\n",
              "      <td>10.000000</td>\n",
              "      <td>NaN</td>\n",
              "      <td>1.000000</td>\n",
              "      <td>1.540000</td>\n",
              "      <td>0.183077</td>\n",
              "    </tr>\n",
              "    <tr>\n",
              "      <th>75%</th>\n",
              "      <td>8.035127e+06</td>\n",
              "      <td>2.016010e+13</td>\n",
              "      <td>2.590309e+07</td>\n",
              "      <td>3.000000</td>\n",
              "      <td>3.000000</td>\n",
              "      <td>47.662694</td>\n",
              "      <td>-122.310800</td>\n",
              "      <td>4.000000</td>\n",
              "      <td>1.000000</td>\n",
              "      <td>2.000000</td>\n",
              "      <td>2.000000</td>\n",
              "      <td>1200.000000</td>\n",
              "      <td>150.000000</td>\n",
              "      <td>2.000000</td>\n",
              "      <td>2.000000</td>\n",
              "      <td>1125.000000</td>\n",
              "      <td>30.000000</td>\n",
              "      <td>59.000000</td>\n",
              "      <td>89.000000</td>\n",
              "      <td>360.000000</td>\n",
              "      <td>26.000000</td>\n",
              "      <td>99.000000</td>\n",
              "      <td>10.000000</td>\n",
              "      <td>10.000000</td>\n",
              "      <td>10.000000</td>\n",
              "      <td>10.000000</td>\n",
              "      <td>10.000000</td>\n",
              "      <td>10.000000</td>\n",
              "      <td>NaN</td>\n",
              "      <td>2.000000</td>\n",
              "      <td>3.000000</td>\n",
              "      <td>0.258846</td>\n",
              "    </tr>\n",
              "    <tr>\n",
              "      <th>max</th>\n",
              "      <td>1.034016e+07</td>\n",
              "      <td>2.016010e+13</td>\n",
              "      <td>5.320861e+07</td>\n",
              "      <td>502.000000</td>\n",
              "      <td>502.000000</td>\n",
              "      <td>47.733358</td>\n",
              "      <td>-122.240607</td>\n",
              "      <td>16.000000</td>\n",
              "      <td>8.000000</td>\n",
              "      <td>7.000000</td>\n",
              "      <td>15.000000</td>\n",
              "      <td>3000.000000</td>\n",
              "      <td>1000.000000</td>\n",
              "      <td>15.000000</td>\n",
              "      <td>1000.000000</td>\n",
              "      <td>100000.000000</td>\n",
              "      <td>30.000000</td>\n",
              "      <td>60.000000</td>\n",
              "      <td>90.000000</td>\n",
              "      <td>365.000000</td>\n",
              "      <td>474.000000</td>\n",
              "      <td>100.000000</td>\n",
              "      <td>10.000000</td>\n",
              "      <td>10.000000</td>\n",
              "      <td>10.000000</td>\n",
              "      <td>10.000000</td>\n",
              "      <td>10.000000</td>\n",
              "      <td>10.000000</td>\n",
              "      <td>NaN</td>\n",
              "      <td>37.000000</td>\n",
              "      <td>12.150000</td>\n",
              "      <td>inf</td>\n",
              "    </tr>\n",
              "  </tbody>\n",
              "</table>\n",
              "</div>"
            ],
            "text/plain": [
              "                 id     scrape_id  ...  reviews_per_month  pricePerSf\n",
              "count  3.818000e+03  3.818000e+03  ...        3191.000000   97.000000\n",
              "mean   5.550111e+06  2.016010e+13  ...           2.078919         inf\n",
              "std    2.962660e+06  0.000000e+00  ...           1.822348         NaN\n",
              "min    3.335000e+03  2.016010e+13  ...           0.020000    0.020000\n",
              "25%    3.258256e+06  2.016010e+13  ...           0.695000    0.131667\n",
              "50%    6.118244e+06  2.016010e+13  ...           1.540000    0.183077\n",
              "75%    8.035127e+06  2.016010e+13  ...           3.000000    0.258846\n",
              "max    1.034016e+07  2.016010e+13  ...          12.150000         inf\n",
              "\n",
              "[8 rows x 32 columns]"
            ]
          },
          "metadata": {
            "tags": []
          },
          "execution_count": 43
        }
      ]
    },
    {
      "cell_type": "code",
      "metadata": {
        "colab": {
          "base_uri": "https://localhost:8080/",
          "height": 462
        },
        "id": "zWt2MhB02KBE",
        "outputId": "17a0a536-deaf-4b3f-dbe1-07556f9c3f95"
      },
      "source": [
        "meanPrice_sqft_neighbourhood = listing.groupby('host_neighbourhood')['pricePerSf'].mean().sort_values()\n",
        "\n",
        "figure(figsize=(12, 6), dpi=80)\n",
        "\n",
        "\n",
        "fig = meanPrice_sqft_neighbourhood.plot()\n",
        "plt.title(\"Mean price per square feet by host neighborhood\")"
      ],
      "execution_count": 69,
      "outputs": [
        {
          "output_type": "execute_result",
          "data": {
            "text/plain": [
              "Text(0.5, 1.0, 'Mean price per square feet by host neighborhood')"
            ]
          },
          "metadata": {
            "tags": []
          },
          "execution_count": 69
        },
        {
          "output_type": "display_data",
          "data": {
            "image/png": "[encoded data removed]",
            "text/plain": [
              "<Figure size 960x480 with 1 Axes>"
            ]
          },
          "metadata": {
            "tags": [],
            "needs_background": "light"
          }
        }
      ]
    },
    {
      "cell_type": "code",
      "metadata": {
        "colab": {
          "base_uri": "https://localhost:8080/",
          "height": 266
        },
        "id": "wTTJNz934UKW",
        "outputId": "2ebc1373-37ce-428f-83d9-0ca94b3ef266"
      },
      "source": [
        "# list the five most expensive neighbourhood\n",
        "\n",
        "meanPrice_sqft_neighbourhood= meanPrice_sqft_neighbourhood.reset_index(name =  \"price_sqft\")\n",
        "meanPrice_sqft_neighbourhood[meanPrice_sqft_neighbourhood['price_sqft'] > 0].sort_values(by = 'price_sqft', ascending = False).iloc[3:10,]\n",
        "                                                                                                                                                                                                                                                                        "
      ],
      "execution_count": 70,
      "outputs": [
        {
          "output_type": "execute_result",
          "data": {
            "text/html": [
              "<div>\n",
              "<style scoped>\n",
              "    .dataframe tbody tr th:only-of-type {\n",
              "        vertical-align: middle;\n",
              "    }\n",
              "\n",
              "    .dataframe tbody tr th {\n",
              "        vertical-align: top;\n",
              "    }\n",
              "\n",
              "    .dataframe thead th {\n",
              "        text-align: right;\n",
              "    }\n",
              "</style>\n",
              "<table border=\"1\" class=\"dataframe\">\n",
              "  <thead>\n",
              "    <tr style=\"text-align: right;\">\n",
              "      <th></th>\n",
              "      <th>host_neighbourhood</th>\n",
              "      <th>price_sqft</th>\n",
              "    </tr>\n",
              "  </thead>\n",
              "  <tbody>\n",
              "    <tr>\n",
              "      <th>31</th>\n",
              "      <td>Atlantic</td>\n",
              "      <td>250.000000</td>\n",
              "    </tr>\n",
              "    <tr>\n",
              "      <th>30</th>\n",
              "      <td>Bryant</td>\n",
              "      <td>94.500000</td>\n",
              "    </tr>\n",
              "    <tr>\n",
              "      <th>29</th>\n",
              "      <td>Madrona</td>\n",
              "      <td>65.000000</td>\n",
              "    </tr>\n",
              "    <tr>\n",
              "      <th>28</th>\n",
              "      <td>Ballard</td>\n",
              "      <td>30.212569</td>\n",
              "    </tr>\n",
              "    <tr>\n",
              "      <th>27</th>\n",
              "      <td>Greenwood</td>\n",
              "      <td>24.542692</td>\n",
              "    </tr>\n",
              "    <tr>\n",
              "      <th>26</th>\n",
              "      <td>Crown Hill</td>\n",
              "      <td>16.261818</td>\n",
              "    </tr>\n",
              "    <tr>\n",
              "      <th>25</th>\n",
              "      <td>North Beacon Hill</td>\n",
              "      <td>0.625000</td>\n",
              "    </tr>\n",
              "  </tbody>\n",
              "</table>\n",
              "</div>"
            ],
            "text/plain": [
              "   host_neighbourhood  price_sqft\n",
              "31           Atlantic  250.000000\n",
              "30             Bryant   94.500000\n",
              "29            Madrona   65.000000\n",
              "28            Ballard   30.212569\n",
              "27          Greenwood   24.542692\n",
              "26         Crown Hill   16.261818\n",
              "25  North Beacon Hill    0.625000"
            ]
          },
          "metadata": {
            "tags": []
          },
          "execution_count": 70
        }
      ]
    },
    {
      "cell_type": "markdown",
      "metadata": {
        "id": "nl_uu41_EaYU"
      },
      "source": [
        "### What are the busiest times of the year to visit Seattle? By how much do prices spike?"
      ]
    },
    {
      "cell_type": "code",
      "metadata": {
        "colab": {
          "base_uri": "https://localhost:8080/",
          "height": 204
        },
        "id": "XbEYyij6EbrT",
        "outputId": "c8610f02-f325-4e31-d336-e234864c9f6b"
      },
      "source": [
        "# get the price from available = True\n",
        "calendar_true = calendar[calendar.available == 't']\n",
        "calendar_true.shape\n",
        "calendar_true.head()"
      ],
      "execution_count": 74,
      "outputs": [
        {
          "output_type": "execute_result",
          "data": {
            "text/html": [
              "<div>\n",
              "<style scoped>\n",
              "    .dataframe tbody tr th:only-of-type {\n",
              "        vertical-align: middle;\n",
              "    }\n",
              "\n",
              "    .dataframe tbody tr th {\n",
              "        vertical-align: top;\n",
              "    }\n",
              "\n",
              "    .dataframe thead th {\n",
              "        text-align: right;\n",
              "    }\n",
              "</style>\n",
              "<table border=\"1\" class=\"dataframe\">\n",
              "  <thead>\n",
              "    <tr style=\"text-align: right;\">\n",
              "      <th></th>\n",
              "      <th>listing_id</th>\n",
              "      <th>date</th>\n",
              "      <th>available</th>\n",
              "      <th>price</th>\n",
              "      <th>year</th>\n",
              "      <th>month</th>\n",
              "    </tr>\n",
              "  </thead>\n",
              "  <tbody>\n",
              "    <tr>\n",
              "      <th>0</th>\n",
              "      <td>241032</td>\n",
              "      <td>2016-01-04</td>\n",
              "      <td>t</td>\n",
              "      <td>85.0</td>\n",
              "      <td>2016</td>\n",
              "      <td>1</td>\n",
              "    </tr>\n",
              "    <tr>\n",
              "      <th>1</th>\n",
              "      <td>241032</td>\n",
              "      <td>2016-01-05</td>\n",
              "      <td>t</td>\n",
              "      <td>85.0</td>\n",
              "      <td>2016</td>\n",
              "      <td>1</td>\n",
              "    </tr>\n",
              "    <tr>\n",
              "      <th>9</th>\n",
              "      <td>241032</td>\n",
              "      <td>2016-01-13</td>\n",
              "      <td>t</td>\n",
              "      <td>85.0</td>\n",
              "      <td>2016</td>\n",
              "      <td>1</td>\n",
              "    </tr>\n",
              "    <tr>\n",
              "      <th>10</th>\n",
              "      <td>241032</td>\n",
              "      <td>2016-01-14</td>\n",
              "      <td>t</td>\n",
              "      <td>85.0</td>\n",
              "      <td>2016</td>\n",
              "      <td>1</td>\n",
              "    </tr>\n",
              "    <tr>\n",
              "      <th>14</th>\n",
              "      <td>241032</td>\n",
              "      <td>2016-01-18</td>\n",
              "      <td>t</td>\n",
              "      <td>85.0</td>\n",
              "      <td>2016</td>\n",
              "      <td>1</td>\n",
              "    </tr>\n",
              "  </tbody>\n",
              "</table>\n",
              "</div>"
            ],
            "text/plain": [
              "    listing_id        date available  price  year  month\n",
              "0       241032  2016-01-04         t   85.0  2016      1\n",
              "1       241032  2016-01-05         t   85.0  2016      1\n",
              "9       241032  2016-01-13         t   85.0  2016      1\n",
              "10      241032  2016-01-14         t   85.0  2016      1\n",
              "14      241032  2016-01-18         t   85.0  2016      1"
            ]
          },
          "metadata": {
            "tags": []
          },
          "execution_count": 74
        }
      ]
    },
    {
      "cell_type": "code",
      "metadata": {
        "id": "2G3JSNoMHGN0"
      },
      "source": [
        "# get the price per year and month\n",
        "price_by_year_month = calendar_true.groupby(['year', 'month'])['price'].mean().reset_index()\n",
        "\n"
      ],
      "execution_count": 79,
      "outputs": []
    },
    {
      "cell_type": "code",
      "metadata": {
        "colab": {
          "base_uri": "https://localhost:8080/",
          "height": 452
        },
        "id": "wrkRVRU3Lij3",
        "outputId": "b1c2276c-6ed3-493e-adff-694402520f29"
      },
      "source": [
        "price_by_year_month"
      ],
      "execution_count": 82,
      "outputs": [
        {
          "output_type": "execute_result",
          "data": {
            "text/html": [
              "<div>\n",
              "<style scoped>\n",
              "    .dataframe tbody tr th:only-of-type {\n",
              "        vertical-align: middle;\n",
              "    }\n",
              "\n",
              "    .dataframe tbody tr th {\n",
              "        vertical-align: top;\n",
              "    }\n",
              "\n",
              "    .dataframe thead th {\n",
              "        text-align: right;\n",
              "    }\n",
              "</style>\n",
              "<table border=\"1\" class=\"dataframe\">\n",
              "  <thead>\n",
              "    <tr style=\"text-align: right;\">\n",
              "      <th></th>\n",
              "      <th>year</th>\n",
              "      <th>month</th>\n",
              "      <th>price</th>\n",
              "    </tr>\n",
              "  </thead>\n",
              "  <tbody>\n",
              "    <tr>\n",
              "      <th>0</th>\n",
              "      <td>2016</td>\n",
              "      <td>1</td>\n",
              "      <td>121.568409</td>\n",
              "    </tr>\n",
              "    <tr>\n",
              "      <th>1</th>\n",
              "      <td>2016</td>\n",
              "      <td>2</td>\n",
              "      <td>124.293927</td>\n",
              "    </tr>\n",
              "    <tr>\n",
              "      <th>2</th>\n",
              "      <td>2016</td>\n",
              "      <td>3</td>\n",
              "      <td>128.644488</td>\n",
              "    </tr>\n",
              "    <tr>\n",
              "      <th>3</th>\n",
              "      <td>2016</td>\n",
              "      <td>4</td>\n",
              "      <td>135.097005</td>\n",
              "    </tr>\n",
              "    <tr>\n",
              "      <th>4</th>\n",
              "      <td>2016</td>\n",
              "      <td>5</td>\n",
              "      <td>139.538183</td>\n",
              "    </tr>\n",
              "    <tr>\n",
              "      <th>5</th>\n",
              "      <td>2016</td>\n",
              "      <td>6</td>\n",
              "      <td>147.473137</td>\n",
              "    </tr>\n",
              "    <tr>\n",
              "      <th>6</th>\n",
              "      <td>2016</td>\n",
              "      <td>7</td>\n",
              "      <td>152.094150</td>\n",
              "    </tr>\n",
              "    <tr>\n",
              "      <th>7</th>\n",
              "      <td>2016</td>\n",
              "      <td>8</td>\n",
              "      <td>150.656594</td>\n",
              "    </tr>\n",
              "    <tr>\n",
              "      <th>8</th>\n",
              "      <td>2016</td>\n",
              "      <td>9</td>\n",
              "      <td>143.255949</td>\n",
              "    </tr>\n",
              "    <tr>\n",
              "      <th>9</th>\n",
              "      <td>2016</td>\n",
              "      <td>10</td>\n",
              "      <td>137.031939</td>\n",
              "    </tr>\n",
              "    <tr>\n",
              "      <th>10</th>\n",
              "      <td>2016</td>\n",
              "      <td>11</td>\n",
              "      <td>135.688738</td>\n",
              "    </tr>\n",
              "    <tr>\n",
              "      <th>11</th>\n",
              "      <td>2016</td>\n",
              "      <td>12</td>\n",
              "      <td>137.251835</td>\n",
              "    </tr>\n",
              "    <tr>\n",
              "      <th>12</th>\n",
              "      <td>2017</td>\n",
              "      <td>1</td>\n",
              "      <td>136.882590</td>\n",
              "    </tr>\n",
              "  </tbody>\n",
              "</table>\n",
              "</div>"
            ],
            "text/plain": [
              "    year  month       price\n",
              "0   2016      1  121.568409\n",
              "1   2016      2  124.293927\n",
              "2   2016      3  128.644488\n",
              "3   2016      4  135.097005\n",
              "4   2016      5  139.538183\n",
              "5   2016      6  147.473137\n",
              "6   2016      7  152.094150\n",
              "7   2016      8  150.656594\n",
              "8   2016      9  143.255949\n",
              "9   2016     10  137.031939\n",
              "10  2016     11  135.688738\n",
              "11  2016     12  137.251835\n",
              "12  2017      1  136.882590"
            ]
          },
          "metadata": {
            "tags": []
          },
          "execution_count": 82
        }
      ]
    },
    {
      "cell_type": "code",
      "metadata": {
        "colab": {
          "base_uri": "https://localhost:8080/",
          "height": 432
        },
        "id": "1b9XGt3HFTjR",
        "outputId": "1617ab68-85a8-4937-e8ef-cc749c77dac3"
      },
      "source": [
        "figure(figsize=(12, 6), dpi=80)\n",
        "# sns.set_theme(style = 'whitegrid')\n",
        "fig= sns.catplot(data = price_by_year_month, kind = 'bar', hue = 'year',  x= 'month', y ='price')\n",
        "# fig.legend.set_title(\")\n",
        "plt.title(\"Mean price by year and month\")"
      ],
      "execution_count": 95,
      "outputs": [
        {
          "output_type": "execute_result",
          "data": {
            "text/plain": [
              "Text(0.5, 1.0, 'Mean price by year and month')"
            ]
          },
          "metadata": {
            "tags": []
          },
          "execution_count": 95
        },
        {
          "output_type": "display_data",
          "data": {
            "text/plain": [
              "<Figure size 960x480 with 0 Axes>"
            ]
          },
          "metadata": {
            "tags": []
          }
        },
        {
          "output_type": "display_data",
          "data": {
            "image/png": "[encoded data removed]",
            "text/plain": [
              "<Figure size 427.475x360 with 1 Axes>"
            ]
          },
          "metadata": {
            "tags": []
          }
        }
      ]
    },
    {
      "cell_type": "code",
      "metadata": {
        "colab": {
          "base_uri": "https://localhost:8080/",
          "height": 326
        },
        "id": "_ADsFjp9HY74",
        "outputId": "27265d37-8fac-4981-b03b-77ff8370c206"
      },
      "source": [
        "calendar_true['dayOfWeek'] = pd.DatetimeIndex(calendar_true['date']).dayofweek\n",
        "calendar_true.head()"
      ],
      "execution_count": 49,
      "outputs": [
        {
          "output_type": "stream",
          "text": [
            "/usr/local/lib/python3.7/dist-packages/ipykernel_launcher.py:1: SettingWithCopyWarning: \n",
            "A value is trying to be set on a copy of a slice from a DataFrame.\n",
            "Try using .loc[row_indexer,col_indexer] = value instead\n",
            "\n",
            "See the caveats in the documentation: https://pandas.pydata.org/pandas-docs/stable/user_guide/indexing.html#returning-a-view-versus-a-copy\n",
            "  \"\"\"Entry point for launching an IPython kernel.\n"
          ],
          "name": "stderr"
        },
        {
          "output_type": "execute_result",
          "data": {
            "text/html": [
              "<div>\n",
              "<style scoped>\n",
              "    .dataframe tbody tr th:only-of-type {\n",
              "        vertical-align: middle;\n",
              "    }\n",
              "\n",
              "    .dataframe tbody tr th {\n",
              "        vertical-align: top;\n",
              "    }\n",
              "\n",
              "    .dataframe thead th {\n",
              "        text-align: right;\n",
              "    }\n",
              "</style>\n",
              "<table border=\"1\" class=\"dataframe\">\n",
              "  <thead>\n",
              "    <tr style=\"text-align: right;\">\n",
              "      <th></th>\n",
              "      <th>listing_id</th>\n",
              "      <th>date</th>\n",
              "      <th>available</th>\n",
              "      <th>price</th>\n",
              "      <th>month</th>\n",
              "      <th>dayOfWeek</th>\n",
              "    </tr>\n",
              "  </thead>\n",
              "  <tbody>\n",
              "    <tr>\n",
              "      <th>0</th>\n",
              "      <td>241032</td>\n",
              "      <td>2016-01-04</td>\n",
              "      <td>t</td>\n",
              "      <td>85.0</td>\n",
              "      <td>1</td>\n",
              "      <td>0</td>\n",
              "    </tr>\n",
              "    <tr>\n",
              "      <th>1</th>\n",
              "      <td>241032</td>\n",
              "      <td>2016-01-05</td>\n",
              "      <td>t</td>\n",
              "      <td>85.0</td>\n",
              "      <td>1</td>\n",
              "      <td>1</td>\n",
              "    </tr>\n",
              "    <tr>\n",
              "      <th>9</th>\n",
              "      <td>241032</td>\n",
              "      <td>2016-01-13</td>\n",
              "      <td>t</td>\n",
              "      <td>85.0</td>\n",
              "      <td>1</td>\n",
              "      <td>2</td>\n",
              "    </tr>\n",
              "    <tr>\n",
              "      <th>10</th>\n",
              "      <td>241032</td>\n",
              "      <td>2016-01-14</td>\n",
              "      <td>t</td>\n",
              "      <td>85.0</td>\n",
              "      <td>1</td>\n",
              "      <td>3</td>\n",
              "    </tr>\n",
              "    <tr>\n",
              "      <th>14</th>\n",
              "      <td>241032</td>\n",
              "      <td>2016-01-18</td>\n",
              "      <td>t</td>\n",
              "      <td>85.0</td>\n",
              "      <td>1</td>\n",
              "      <td>0</td>\n",
              "    </tr>\n",
              "  </tbody>\n",
              "</table>\n",
              "</div>"
            ],
            "text/plain": [
              "    listing_id        date available  price  month  dayOfWeek\n",
              "0       241032  2016-01-04         t   85.0      1          0\n",
              "1       241032  2016-01-05         t   85.0      1          1\n",
              "9       241032  2016-01-13         t   85.0      1          2\n",
              "10      241032  2016-01-14         t   85.0      1          3\n",
              "14      241032  2016-01-18         t   85.0      1          0"
            ]
          },
          "metadata": {
            "tags": []
          },
          "execution_count": 49
        }
      ]
    },
    {
      "cell_type": "code",
      "metadata": {
        "id": "519OyGnWL6Ev"
      },
      "source": [
        "def convert(dayNo):\n",
        "  if dayNo == 6:\n",
        "    return 'Sunday'\n",
        "  if dayNo == 0:\n",
        "    return 'Monday'\n",
        "  if dayNo == 1:\n",
        "    return 'Tuesday'\n",
        "  if dayNo == 2: \n",
        "    return 'Wednesday'\n",
        "  if dayNo== 3:\n",
        "    return 'Thursday'\n",
        "  if dayNo == 4:\n",
        "    return 'Friday'\n",
        "  if dayNo == 5:\n",
        "    return 'Saturday'"
      ],
      "execution_count": 50,
      "outputs": []
    },
    {
      "cell_type": "code",
      "metadata": {
        "id": "ZTGUZlKJMxzg",
        "colab": {
          "base_uri": "https://localhost:8080/"
        },
        "outputId": "81109435-e1df-4070-be32-0d699e5eb76f"
      },
      "source": [
        "calendar_true['DayofWeek'] = calendar_true['dayOfWeek'].apply(convert)"
      ],
      "execution_count": 51,
      "outputs": [
        {
          "output_type": "stream",
          "text": [
            "/usr/local/lib/python3.7/dist-packages/ipykernel_launcher.py:1: SettingWithCopyWarning: \n",
            "A value is trying to be set on a copy of a slice from a DataFrame.\n",
            "Try using .loc[row_indexer,col_indexer] = value instead\n",
            "\n",
            "See the caveats in the documentation: https://pandas.pydata.org/pandas-docs/stable/user_guide/indexing.html#returning-a-view-versus-a-copy\n",
            "  \"\"\"Entry point for launching an IPython kernel.\n"
          ],
          "name": "stderr"
        }
      ]
    },
    {
      "cell_type": "code",
      "metadata": {
        "colab": {
          "base_uri": "https://localhost:8080/",
          "height": 204
        },
        "id": "HaU0B8XAM5HH",
        "outputId": "08512b76-a1be-4118-dc4b-d19fd5e50010"
      },
      "source": [
        "calendar_true.head()"
      ],
      "execution_count": 52,
      "outputs": [
        {
          "output_type": "execute_result",
          "data": {
            "text/html": [
              "<div>\n",
              "<style scoped>\n",
              "    .dataframe tbody tr th:only-of-type {\n",
              "        vertical-align: middle;\n",
              "    }\n",
              "\n",
              "    .dataframe tbody tr th {\n",
              "        vertical-align: top;\n",
              "    }\n",
              "\n",
              "    .dataframe thead th {\n",
              "        text-align: right;\n",
              "    }\n",
              "</style>\n",
              "<table border=\"1\" class=\"dataframe\">\n",
              "  <thead>\n",
              "    <tr style=\"text-align: right;\">\n",
              "      <th></th>\n",
              "      <th>listing_id</th>\n",
              "      <th>date</th>\n",
              "      <th>available</th>\n",
              "      <th>price</th>\n",
              "      <th>month</th>\n",
              "      <th>dayOfWeek</th>\n",
              "      <th>DayofWeek</th>\n",
              "    </tr>\n",
              "  </thead>\n",
              "  <tbody>\n",
              "    <tr>\n",
              "      <th>0</th>\n",
              "      <td>241032</td>\n",
              "      <td>2016-01-04</td>\n",
              "      <td>t</td>\n",
              "      <td>85.0</td>\n",
              "      <td>1</td>\n",
              "      <td>0</td>\n",
              "      <td>Monday</td>\n",
              "    </tr>\n",
              "    <tr>\n",
              "      <th>1</th>\n",
              "      <td>241032</td>\n",
              "      <td>2016-01-05</td>\n",
              "      <td>t</td>\n",
              "      <td>85.0</td>\n",
              "      <td>1</td>\n",
              "      <td>1</td>\n",
              "      <td>Tuesday</td>\n",
              "    </tr>\n",
              "    <tr>\n",
              "      <th>9</th>\n",
              "      <td>241032</td>\n",
              "      <td>2016-01-13</td>\n",
              "      <td>t</td>\n",
              "      <td>85.0</td>\n",
              "      <td>1</td>\n",
              "      <td>2</td>\n",
              "      <td>Wednesday</td>\n",
              "    </tr>\n",
              "    <tr>\n",
              "      <th>10</th>\n",
              "      <td>241032</td>\n",
              "      <td>2016-01-14</td>\n",
              "      <td>t</td>\n",
              "      <td>85.0</td>\n",
              "      <td>1</td>\n",
              "      <td>3</td>\n",
              "      <td>Thursday</td>\n",
              "    </tr>\n",
              "    <tr>\n",
              "      <th>14</th>\n",
              "      <td>241032</td>\n",
              "      <td>2016-01-18</td>\n",
              "      <td>t</td>\n",
              "      <td>85.0</td>\n",
              "      <td>1</td>\n",
              "      <td>0</td>\n",
              "      <td>Monday</td>\n",
              "    </tr>\n",
              "  </tbody>\n",
              "</table>\n",
              "</div>"
            ],
            "text/plain": [
              "    listing_id        date available  price  month  dayOfWeek  DayofWeek\n",
              "0       241032  2016-01-04         t   85.0      1          0     Monday\n",
              "1       241032  2016-01-05         t   85.0      1          1    Tuesday\n",
              "9       241032  2016-01-13         t   85.0      1          2  Wednesday\n",
              "10      241032  2016-01-14         t   85.0      1          3   Thursday\n",
              "14      241032  2016-01-18         t   85.0      1          0     Monday"
            ]
          },
          "metadata": {
            "tags": []
          },
          "execution_count": 52
        }
      ]
    },
    {
      "cell_type": "code",
      "metadata": {
        "id": "mpDRHs4WNEUI"
      },
      "source": [
        "calendar_true = calendar_true.drop(columns = ['dayOfWeek'])"
      ],
      "execution_count": 53,
      "outputs": []
    },
    {
      "cell_type": "code",
      "metadata": {
        "id": "B10ziMWWOnro"
      },
      "source": [
        "from pandas.api.types import CategoricalDtype\n",
        "\n",
        "cats = [ 'Monday', 'Tuesday', 'Wednesday', 'Thursday', 'Friday', 'Saturday', 'Sunday']\n",
        "\n",
        "cat_type = CategoricalDtype(categories = cats, ordered= True)\n",
        "\n",
        "calendar_true['DayofWeek'] = calendar_true['DayofWeek'].astype(cat_type)"
      ],
      "execution_count": 54,
      "outputs": []
    },
    {
      "cell_type": "code",
      "metadata": {
        "colab": {
          "base_uri": "https://localhost:8080/",
          "height": 296
        },
        "id": "ewXvY-eINfcq",
        "outputId": "ad40f7ba-ac65-42d7-91fc-d1a28ca825e7"
      },
      "source": [
        "calendar_true.groupby(['month', 'DayofWeek'])['price'].mean().plot()"
      ],
      "execution_count": 55,
      "outputs": [
        {
          "output_type": "execute_result",
          "data": {
            "text/plain": [
              "<matplotlib.axes._subplots.AxesSubplot at 0x7fdadefa7850>"
            ]
          },
          "metadata": {
            "tags": []
          },
          "execution_count": 55
        },
        {
          "output_type": "display_data",
          "data": {
            "image/png": "[encoded data removed]",
            "text/plain": [
              "<Figure size 432x288 with 1 Axes>"
            ]
          },
          "metadata": {
            "tags": [],
            "needs_background": "light"
          }
        }
      ]
    },
    {
      "cell_type": "code",
      "metadata": {
        "colab": {
          "base_uri": "https://localhost:8080/",
          "height": 296
        },
        "id": "_Wv4e8lWOUi0",
        "outputId": "1567eebf-e844-474a-9098-5efcc43dbefd"
      },
      "source": [
        "calendar_true.groupby('DayofWeek')['price'].mean().plot()"
      ],
      "execution_count": 56,
      "outputs": [
        {
          "output_type": "execute_result",
          "data": {
            "text/plain": [
              "<matplotlib.axes._subplots.AxesSubplot at 0x7fdadeea1610>"
            ]
          },
          "metadata": {
            "tags": []
          },
          "execution_count": 56
        },
        {
          "output_type": "display_data",
          "data": {
            "image/png": "[encoded data removed]",
            "text/plain": [
              "<Figure size 432x288 with 1 Axes>"
            ]
          },
          "metadata": {
            "tags": [],
            "needs_background": "light"
          }
        }
      ]
    },
    {
      "cell_type": "code",
      "metadata": {
        "id": "Y6FR_bvqO--f",
        "colab": {
          "base_uri": "https://localhost:8080/"
        },
        "outputId": "d0283696-bd68-4845-e8ed-f7b7b20b9a03"
      },
      "source": [
        "listing.groupby(['host_since'])['id'].count()"
      ],
      "execution_count": 75,
      "outputs": [
        {
          "output_type": "execute_result",
          "data": {
            "text/plain": [
              "host_since\n",
              "2008-11-10    4\n",
              "2009-01-08    1\n",
              "2009-02-16    2\n",
              "2009-03-03    1\n",
              "2009-03-30    1\n",
              "             ..\n",
              "2015-12-29    1\n",
              "2015-12-30    1\n",
              "2016-01-01    1\n",
              "2016-01-02    2\n",
              "2016-01-03    2\n",
              "Name: id, Length: 1380, dtype: int64"
            ]
          },
          "metadata": {
            "tags": []
          },
          "execution_count": 75
        }
      ]
    },
    {
      "cell_type": "markdown",
      "metadata": {
        "id": "nrEjUU8-a6s_"
      },
      "source": [
        "## Is there a general upward trend of both new Airbnb listings and total Airbnb visitors to Seattle?"
      ]
    },
    {
      "cell_type": "code",
      "metadata": {
        "id": "CW21zx85a73Y",
        "colab": {
          "base_uri": "https://localhost:8080/"
        },
        "outputId": "949ad8e4-1461-4cc2-c241-1ac42cefa227"
      },
      "source": [
        "listing.groupby['id']"
      ],
      "execution_count": 57,
      "outputs": [
        {
          "output_type": "execute_result",
          "data": {
            "text/plain": [
              "Index(['id', 'listing_url', 'scrape_id', 'last_scraped', 'name', 'summary',\n",
              "       'space', 'description', 'experiences_offered', 'neighborhood_overview',\n",
              "       'notes', 'transit', 'thumbnail_url', 'medium_url', 'picture_url',\n",
              "       'xl_picture_url', 'host_id', 'host_url', 'host_name', 'host_since',\n",
              "       'host_location', 'host_about', 'host_response_time',\n",
              "       'host_response_rate', 'host_acceptance_rate', 'host_is_superhost',\n",
              "       'host_thumbnail_url', 'host_picture_url', 'host_neighbourhood',\n",
              "       'host_listings_count', 'host_total_listings_count',\n",
              "       'host_verifications', 'host_has_profile_pic', 'host_identity_verified',\n",
              "       'street', 'neighbourhood', 'neighbourhood_cleansed',\n",
              "       'neighbourhood_group_cleansed', 'city', 'state', 'zipcode', 'market',\n",
              "       'smart_location', 'country_code', 'country', 'latitude', 'longitude',\n",
              "       'is_location_exact', 'property_type', 'room_type', 'accommodates',\n",
              "       'bathrooms', 'bedrooms', 'beds', 'bed_type', 'amenities', 'square_feet',\n",
              "       'price', 'weekly_price', 'monthly_price', 'security_deposit',\n",
              "       'cleaning_fee', 'guests_included', 'extra_people', 'minimum_nights',\n",
              "       'maximum_nights', 'calendar_updated', 'has_availability',\n",
              "       'availability_30', 'availability_60', 'availability_90',\n",
              "       'availability_365', 'calendar_last_scraped', 'number_of_reviews',\n",
              "       'first_review', 'last_review', 'review_scores_rating',\n",
              "       'review_scores_accuracy', 'review_scores_cleanliness',\n",
              "       'review_scores_checkin', 'review_scores_communication',\n",
              "       'review_scores_location', 'review_scores_value', 'requires_license',\n",
              "       'license', 'jurisdiction_names', 'instant_bookable',\n",
              "       'cancellation_policy', 'require_guest_profile_picture',\n",
              "       'require_guest_phone_verification', 'calculated_host_listings_count',\n",
              "       'reviews_per_month', 'pricePerSf'],\n",
              "      dtype='object')"
            ]
          },
          "metadata": {
            "tags": []
          },
          "execution_count": 57
        }
      ]
    },
    {
      "cell_type": "code",
      "metadata": {
        "colab": {
          "base_uri": "https://localhost:8080/"
        },
        "id": "UU6SHr2soSAq",
        "outputId": "698ae609-6104-4bd2-ec4f-7db26c41eea8"
      },
      "source": [
        "calendar.columns"
      ],
      "execution_count": 58,
      "outputs": [
        {
          "output_type": "execute_result",
          "data": {
            "text/plain": [
              "Index(['listing_id', 'date', 'available', 'price'], dtype='object')"
            ]
          },
          "metadata": {
            "tags": []
          },
          "execution_count": 58
        }
      ]
    },
    {
      "cell_type": "code",
      "metadata": {
        "colab": {
          "base_uri": "https://localhost:8080/"
        },
        "id": "xzl9ahgLofeo",
        "outputId": "4b287ab2-72b5-4d15-f53e-d19d18479b52"
      },
      "source": [
        "review.columns"
      ],
      "execution_count": 59,
      "outputs": [
        {
          "output_type": "execute_result",
          "data": {
            "text/plain": [
              "Index(['listing_id', 'id', 'date', 'reviewer_id', 'reviewer_name', 'comments'], dtype='object')"
            ]
          },
          "metadata": {
            "tags": []
          },
          "execution_count": 59
        }
      ]
    },
    {
      "cell_type": "code",
      "metadata": {
        "colab": {
          "base_uri": "https://localhost:8080/",
          "height": 204
        },
        "id": "mSpmqSamoil-",
        "outputId": "301bf495-19e8-47e6-cfed-b59a14ab40bf"
      },
      "source": [
        "review.head()"
      ],
      "execution_count": 60,
      "outputs": [
        {
          "output_type": "execute_result",
          "data": {
            "text/html": [
              "<div>\n",
              "<style scoped>\n",
              "    .dataframe tbody tr th:only-of-type {\n",
              "        vertical-align: middle;\n",
              "    }\n",
              "\n",
              "    .dataframe tbody tr th {\n",
              "        vertical-align: top;\n",
              "    }\n",
              "\n",
              "    .dataframe thead th {\n",
              "        text-align: right;\n",
              "    }\n",
              "</style>\n",
              "<table border=\"1\" class=\"dataframe\">\n",
              "  <thead>\n",
              "    <tr style=\"text-align: right;\">\n",
              "      <th></th>\n",
              "      <th>listing_id</th>\n",
              "      <th>id</th>\n",
              "      <th>date</th>\n",
              "      <th>reviewer_id</th>\n",
              "      <th>reviewer_name</th>\n",
              "      <th>comments</th>\n",
              "    </tr>\n",
              "  </thead>\n",
              "  <tbody>\n",
              "    <tr>\n",
              "      <th>0</th>\n",
              "      <td>7202016</td>\n",
              "      <td>38917982</td>\n",
              "      <td>2015-07-19</td>\n",
              "      <td>28943674</td>\n",
              "      <td>Bianca</td>\n",
              "      <td>Cute and cozy place. Perfect location to every...</td>\n",
              "    </tr>\n",
              "    <tr>\n",
              "      <th>1</th>\n",
              "      <td>7202016</td>\n",
              "      <td>39087409</td>\n",
              "      <td>2015-07-20</td>\n",
              "      <td>32440555</td>\n",
              "      <td>Frank</td>\n",
              "      <td>Kelly has a great room in a very central locat...</td>\n",
              "    </tr>\n",
              "    <tr>\n",
              "      <th>2</th>\n",
              "      <td>7202016</td>\n",
              "      <td>39820030</td>\n",
              "      <td>2015-07-26</td>\n",
              "      <td>37722850</td>\n",
              "      <td>Ian</td>\n",
              "      <td>Very spacious apartment, and in a great neighb...</td>\n",
              "    </tr>\n",
              "    <tr>\n",
              "      <th>3</th>\n",
              "      <td>7202016</td>\n",
              "      <td>40813543</td>\n",
              "      <td>2015-08-02</td>\n",
              "      <td>33671805</td>\n",
              "      <td>George</td>\n",
              "      <td>Close to Seattle Center and all it has to offe...</td>\n",
              "    </tr>\n",
              "    <tr>\n",
              "      <th>4</th>\n",
              "      <td>7202016</td>\n",
              "      <td>41986501</td>\n",
              "      <td>2015-08-10</td>\n",
              "      <td>34959538</td>\n",
              "      <td>Ming</td>\n",
              "      <td>Kelly was a great host and very accommodating ...</td>\n",
              "    </tr>\n",
              "  </tbody>\n",
              "</table>\n",
              "</div>"
            ],
            "text/plain": [
              "   listing_id  ...                                           comments\n",
              "0     7202016  ...  Cute and cozy place. Perfect location to every...\n",
              "1     7202016  ...  Kelly has a great room in a very central locat...\n",
              "2     7202016  ...  Very spacious apartment, and in a great neighb...\n",
              "3     7202016  ...  Close to Seattle Center and all it has to offe...\n",
              "4     7202016  ...  Kelly was a great host and very accommodating ...\n",
              "\n",
              "[5 rows x 6 columns]"
            ]
          },
          "metadata": {
            "tags": []
          },
          "execution_count": 60
        }
      ]
    },
    {
      "cell_type": "code",
      "metadata": {
        "colab": {
          "base_uri": "https://localhost:8080/",
          "height": 814
        },
        "id": "kZImAru_omU4",
        "outputId": "a474e64d-59da-47f7-9a28-36ba13f5da95"
      },
      "source": [
        "listing.head()"
      ],
      "execution_count": 61,
      "outputs": [
        {
          "output_type": "execute_result",
          "data": {
            "text/html": [
              "<div>\n",
              "<style scoped>\n",
              "    .dataframe tbody tr th:only-of-type {\n",
              "        vertical-align: middle;\n",
              "    }\n",
              "\n",
              "    .dataframe tbody tr th {\n",
              "        vertical-align: top;\n",
              "    }\n",
              "\n",
              "    .dataframe thead th {\n",
              "        text-align: right;\n",
              "    }\n",
              "</style>\n",
              "<table border=\"1\" class=\"dataframe\">\n",
              "  <thead>\n",
              "    <tr style=\"text-align: right;\">\n",
              "      <th></th>\n",
              "      <th>id</th>\n",
              "      <th>listing_url</th>\n",
              "      <th>scrape_id</th>\n",
              "      <th>last_scraped</th>\n",
              "      <th>name</th>\n",
              "      <th>summary</th>\n",
              "      <th>space</th>\n",
              "      <th>description</th>\n",
              "      <th>experiences_offered</th>\n",
              "      <th>neighborhood_overview</th>\n",
              "      <th>notes</th>\n",
              "      <th>transit</th>\n",
              "      <th>thumbnail_url</th>\n",
              "      <th>medium_url</th>\n",
              "      <th>picture_url</th>\n",
              "      <th>xl_picture_url</th>\n",
              "      <th>host_id</th>\n",
              "      <th>host_url</th>\n",
              "      <th>host_name</th>\n",
              "      <th>host_since</th>\n",
              "      <th>host_location</th>\n",
              "      <th>host_about</th>\n",
              "      <th>host_response_time</th>\n",
              "      <th>host_response_rate</th>\n",
              "      <th>host_acceptance_rate</th>\n",
              "      <th>host_is_superhost</th>\n",
              "      <th>host_thumbnail_url</th>\n",
              "      <th>host_picture_url</th>\n",
              "      <th>host_neighbourhood</th>\n",
              "      <th>host_listings_count</th>\n",
              "      <th>host_total_listings_count</th>\n",
              "      <th>host_verifications</th>\n",
              "      <th>host_has_profile_pic</th>\n",
              "      <th>host_identity_verified</th>\n",
              "      <th>street</th>\n",
              "      <th>neighbourhood</th>\n",
              "      <th>neighbourhood_cleansed</th>\n",
              "      <th>neighbourhood_group_cleansed</th>\n",
              "      <th>city</th>\n",
              "      <th>state</th>\n",
              "      <th>...</th>\n",
              "      <th>beds</th>\n",
              "      <th>bed_type</th>\n",
              "      <th>amenities</th>\n",
              "      <th>square_feet</th>\n",
              "      <th>price</th>\n",
              "      <th>weekly_price</th>\n",
              "      <th>monthly_price</th>\n",
              "      <th>security_deposit</th>\n",
              "      <th>cleaning_fee</th>\n",
              "      <th>guests_included</th>\n",
              "      <th>extra_people</th>\n",
              "      <th>minimum_nights</th>\n",
              "      <th>maximum_nights</th>\n",
              "      <th>calendar_updated</th>\n",
              "      <th>has_availability</th>\n",
              "      <th>availability_30</th>\n",
              "      <th>availability_60</th>\n",
              "      <th>availability_90</th>\n",
              "      <th>availability_365</th>\n",
              "      <th>calendar_last_scraped</th>\n",
              "      <th>number_of_reviews</th>\n",
              "      <th>first_review</th>\n",
              "      <th>last_review</th>\n",
              "      <th>review_scores_rating</th>\n",
              "      <th>review_scores_accuracy</th>\n",
              "      <th>review_scores_cleanliness</th>\n",
              "      <th>review_scores_checkin</th>\n",
              "      <th>review_scores_communication</th>\n",
              "      <th>review_scores_location</th>\n",
              "      <th>review_scores_value</th>\n",
              "      <th>requires_license</th>\n",
              "      <th>license</th>\n",
              "      <th>jurisdiction_names</th>\n",
              "      <th>instant_bookable</th>\n",
              "      <th>cancellation_policy</th>\n",
              "      <th>require_guest_profile_picture</th>\n",
              "      <th>require_guest_phone_verification</th>\n",
              "      <th>calculated_host_listings_count</th>\n",
              "      <th>reviews_per_month</th>\n",
              "      <th>pricePerSf</th>\n",
              "    </tr>\n",
              "  </thead>\n",
              "  <tbody>\n",
              "    <tr>\n",
              "      <th>0</th>\n",
              "      <td>241032</td>\n",
              "      <td>https://www.airbnb.com/rooms/241032</td>\n",
              "      <td>20160104002432</td>\n",
              "      <td>2016-01-04</td>\n",
              "      <td>Stylish Queen Anne Apartment</td>\n",
              "      <td>NaN</td>\n",
              "      <td>Make your self at home in this charming one-be...</td>\n",
              "      <td>Make your self at home in this charming one-be...</td>\n",
              "      <td>none</td>\n",
              "      <td>NaN</td>\n",
              "      <td>NaN</td>\n",
              "      <td>NaN</td>\n",
              "      <td>NaN</td>\n",
              "      <td>NaN</td>\n",
              "      <td>https://a1.muscache.com/ac/pictures/67560560/c...</td>\n",
              "      <td>NaN</td>\n",
              "      <td>956883</td>\n",
              "      <td>https://www.airbnb.com/users/show/956883</td>\n",
              "      <td>Maija</td>\n",
              "      <td>2011-08-11</td>\n",
              "      <td>Seattle, Washington, United States</td>\n",
              "      <td>I am an artist, interior designer, and run a s...</td>\n",
              "      <td>within a few hours</td>\n",
              "      <td>96%</td>\n",
              "      <td>100%</td>\n",
              "      <td>f</td>\n",
              "      <td>https://a0.muscache.com/ac/users/956883/profil...</td>\n",
              "      <td>https://a0.muscache.com/ac/users/956883/profil...</td>\n",
              "      <td>Queen Anne</td>\n",
              "      <td>3.0</td>\n",
              "      <td>3.0</td>\n",
              "      <td>['email', 'phone', 'reviews', 'kba']</td>\n",
              "      <td>t</td>\n",
              "      <td>t</td>\n",
              "      <td>Gilman Dr W, Seattle, WA 98119, United States</td>\n",
              "      <td>Queen Anne</td>\n",
              "      <td>West Queen Anne</td>\n",
              "      <td>Queen Anne</td>\n",
              "      <td>Seattle</td>\n",
              "      <td>WA</td>\n",
              "      <td>...</td>\n",
              "      <td>1.0</td>\n",
              "      <td>Real Bed</td>\n",
              "      <td>{TV,\"Cable TV\",Internet,\"Wireless Internet\",\"A...</td>\n",
              "      <td>NaN</td>\n",
              "      <td>85.0</td>\n",
              "      <td>NaN</td>\n",
              "      <td>NaN</td>\n",
              "      <td>NaN</td>\n",
              "      <td>NaN</td>\n",
              "      <td>2</td>\n",
              "      <td>$5.00</td>\n",
              "      <td>1</td>\n",
              "      <td>365</td>\n",
              "      <td>4 weeks ago</td>\n",
              "      <td>t</td>\n",
              "      <td>14</td>\n",
              "      <td>41</td>\n",
              "      <td>71</td>\n",
              "      <td>346</td>\n",
              "      <td>2016-01-04</td>\n",
              "      <td>207</td>\n",
              "      <td>2011-11-01</td>\n",
              "      <td>2016-01-02</td>\n",
              "      <td>95.0</td>\n",
              "      <td>10.0</td>\n",
              "      <td>10.0</td>\n",
              "      <td>10.0</td>\n",
              "      <td>10.0</td>\n",
              "      <td>9.0</td>\n",
              "      <td>10.0</td>\n",
              "      <td>f</td>\n",
              "      <td>NaN</td>\n",
              "      <td>WASHINGTON</td>\n",
              "      <td>f</td>\n",
              "      <td>moderate</td>\n",
              "      <td>f</td>\n",
              "      <td>f</td>\n",
              "      <td>2</td>\n",
              "      <td>4.07</td>\n",
              "      <td>NaN</td>\n",
              "    </tr>\n",
              "    <tr>\n",
              "      <th>1</th>\n",
              "      <td>953595</td>\n",
              "      <td>https://www.airbnb.com/rooms/953595</td>\n",
              "      <td>20160104002432</td>\n",
              "      <td>2016-01-04</td>\n",
              "      <td>Bright &amp; Airy Queen Anne Apartment</td>\n",
              "      <td>Chemically sensitive? We've removed the irrita...</td>\n",
              "      <td>Beautiful, hypoallergenic apartment in an extr...</td>\n",
              "      <td>Chemically sensitive? We've removed the irrita...</td>\n",
              "      <td>none</td>\n",
              "      <td>Queen Anne is a wonderful, truly functional vi...</td>\n",
              "      <td>What's up with the free pillows?  Our home was...</td>\n",
              "      <td>Convenient bus stops are just down the block, ...</td>\n",
              "      <td>https://a0.muscache.com/ac/pictures/14409893/f...</td>\n",
              "      <td>https://a0.muscache.com/im/pictures/14409893/f...</td>\n",
              "      <td>https://a0.muscache.com/ac/pictures/14409893/f...</td>\n",
              "      <td>https://a0.muscache.com/ac/pictures/14409893/f...</td>\n",
              "      <td>5177328</td>\n",
              "      <td>https://www.airbnb.com/users/show/5177328</td>\n",
              "      <td>Andrea</td>\n",
              "      <td>2013-02-21</td>\n",
              "      <td>Seattle, Washington, United States</td>\n",
              "      <td>Living east coast/left coast/overseas.  Time i...</td>\n",
              "      <td>within an hour</td>\n",
              "      <td>98%</td>\n",
              "      <td>100%</td>\n",
              "      <td>t</td>\n",
              "      <td>https://a0.muscache.com/ac/users/5177328/profi...</td>\n",
              "      <td>https://a0.muscache.com/ac/users/5177328/profi...</td>\n",
              "      <td>Queen Anne</td>\n",
              "      <td>6.0</td>\n",
              "      <td>6.0</td>\n",
              "      <td>['email', 'phone', 'facebook', 'linkedin', 're...</td>\n",
              "      <td>t</td>\n",
              "      <td>t</td>\n",
              "      <td>7th Avenue West, Seattle, WA 98119, United States</td>\n",
              "      <td>Queen Anne</td>\n",
              "      <td>West Queen Anne</td>\n",
              "      <td>Queen Anne</td>\n",
              "      <td>Seattle</td>\n",
              "      <td>WA</td>\n",
              "      <td>...</td>\n",
              "      <td>1.0</td>\n",
              "      <td>Real Bed</td>\n",
              "      <td>{TV,Internet,\"Wireless Internet\",Kitchen,\"Free...</td>\n",
              "      <td>NaN</td>\n",
              "      <td>150.0</td>\n",
              "      <td>$1,000.00</td>\n",
              "      <td>$3,000.00</td>\n",
              "      <td>$100.00</td>\n",
              "      <td>$40.00</td>\n",
              "      <td>1</td>\n",
              "      <td>$0.00</td>\n",
              "      <td>2</td>\n",
              "      <td>90</td>\n",
              "      <td>today</td>\n",
              "      <td>t</td>\n",
              "      <td>13</td>\n",
              "      <td>13</td>\n",
              "      <td>16</td>\n",
              "      <td>291</td>\n",
              "      <td>2016-01-04</td>\n",
              "      <td>43</td>\n",
              "      <td>2013-08-19</td>\n",
              "      <td>2015-12-29</td>\n",
              "      <td>96.0</td>\n",
              "      <td>10.0</td>\n",
              "      <td>10.0</td>\n",
              "      <td>10.0</td>\n",
              "      <td>10.0</td>\n",
              "      <td>10.0</td>\n",
              "      <td>10.0</td>\n",
              "      <td>f</td>\n",
              "      <td>NaN</td>\n",
              "      <td>WASHINGTON</td>\n",
              "      <td>f</td>\n",
              "      <td>strict</td>\n",
              "      <td>t</td>\n",
              "      <td>t</td>\n",
              "      <td>6</td>\n",
              "      <td>1.48</td>\n",
              "      <td>NaN</td>\n",
              "    </tr>\n",
              "    <tr>\n",
              "      <th>2</th>\n",
              "      <td>3308979</td>\n",
              "      <td>https://www.airbnb.com/rooms/3308979</td>\n",
              "      <td>20160104002432</td>\n",
              "      <td>2016-01-04</td>\n",
              "      <td>New Modern House-Amazing water view</td>\n",
              "      <td>New modern house built in 2013.  Spectacular s...</td>\n",
              "      <td>Our house is modern, light and fresh with a wa...</td>\n",
              "      <td>New modern house built in 2013.  Spectacular s...</td>\n",
              "      <td>none</td>\n",
              "      <td>Upper Queen Anne is a charming neighborhood fu...</td>\n",
              "      <td>Our house is located just 5 short blocks to To...</td>\n",
              "      <td>A bus stop is just 2 blocks away.   Easy bus a...</td>\n",
              "      <td>NaN</td>\n",
              "      <td>NaN</td>\n",
              "      <td>https://a2.muscache.com/ac/pictures/b4324e0f-a...</td>\n",
              "      <td>NaN</td>\n",
              "      <td>16708587</td>\n",
              "      <td>https://www.airbnb.com/users/show/16708587</td>\n",
              "      <td>Jill</td>\n",
              "      <td>2014-06-12</td>\n",
              "      <td>Seattle, Washington, United States</td>\n",
              "      <td>i love living in Seattle.  i grew up in the mi...</td>\n",
              "      <td>within a few hours</td>\n",
              "      <td>67%</td>\n",
              "      <td>100%</td>\n",
              "      <td>f</td>\n",
              "      <td>https://a1.muscache.com/ac/users/16708587/prof...</td>\n",
              "      <td>https://a1.muscache.com/ac/users/16708587/prof...</td>\n",
              "      <td>Queen Anne</td>\n",
              "      <td>2.0</td>\n",
              "      <td>2.0</td>\n",
              "      <td>['email', 'phone', 'google', 'reviews', 'jumio']</td>\n",
              "      <td>t</td>\n",
              "      <td>t</td>\n",
              "      <td>West Lee Street, Seattle, WA 98119, United States</td>\n",
              "      <td>Queen Anne</td>\n",
              "      <td>West Queen Anne</td>\n",
              "      <td>Queen Anne</td>\n",
              "      <td>Seattle</td>\n",
              "      <td>WA</td>\n",
              "      <td>...</td>\n",
              "      <td>7.0</td>\n",
              "      <td>Real Bed</td>\n",
              "      <td>{TV,\"Cable TV\",Internet,\"Wireless Internet\",\"A...</td>\n",
              "      <td>NaN</td>\n",
              "      <td>975.0</td>\n",
              "      <td>NaN</td>\n",
              "      <td>NaN</td>\n",
              "      <td>$1,000.00</td>\n",
              "      <td>$300.00</td>\n",
              "      <td>10</td>\n",
              "      <td>$25.00</td>\n",
              "      <td>4</td>\n",
              "      <td>30</td>\n",
              "      <td>5 weeks ago</td>\n",
              "      <td>t</td>\n",
              "      <td>1</td>\n",
              "      <td>6</td>\n",
              "      <td>17</td>\n",
              "      <td>220</td>\n",
              "      <td>2016-01-04</td>\n",
              "      <td>20</td>\n",
              "      <td>2014-07-30</td>\n",
              "      <td>2015-09-03</td>\n",
              "      <td>97.0</td>\n",
              "      <td>10.0</td>\n",
              "      <td>10.0</td>\n",
              "      <td>10.0</td>\n",
              "      <td>10.0</td>\n",
              "      <td>10.0</td>\n",
              "      <td>10.0</td>\n",
              "      <td>f</td>\n",
              "      <td>NaN</td>\n",
              "      <td>WASHINGTON</td>\n",
              "      <td>f</td>\n",
              "      <td>strict</td>\n",
              "      <td>f</td>\n",
              "      <td>f</td>\n",
              "      <td>2</td>\n",
              "      <td>1.15</td>\n",
              "      <td>NaN</td>\n",
              "    </tr>\n",
              "    <tr>\n",
              "      <th>3</th>\n",
              "      <td>7421966</td>\n",
              "      <td>https://www.airbnb.com/rooms/7421966</td>\n",
              "      <td>20160104002432</td>\n",
              "      <td>2016-01-04</td>\n",
              "      <td>Queen Anne Chateau</td>\n",
              "      <td>A charming apartment that sits atop Queen Anne...</td>\n",
              "      <td>NaN</td>\n",
              "      <td>A charming apartment that sits atop Queen Anne...</td>\n",
              "      <td>none</td>\n",
              "      <td>NaN</td>\n",
              "      <td>NaN</td>\n",
              "      <td>NaN</td>\n",
              "      <td>NaN</td>\n",
              "      <td>NaN</td>\n",
              "      <td>https://a0.muscache.com/ac/pictures/94146944/6...</td>\n",
              "      <td>NaN</td>\n",
              "      <td>9851441</td>\n",
              "      <td>https://www.airbnb.com/users/show/9851441</td>\n",
              "      <td>Emily</td>\n",
              "      <td>2013-11-06</td>\n",
              "      <td>Seattle, Washington, United States</td>\n",
              "      <td>NaN</td>\n",
              "      <td>NaN</td>\n",
              "      <td>NaN</td>\n",
              "      <td>NaN</td>\n",
              "      <td>f</td>\n",
              "      <td>https://a2.muscache.com/ac/users/9851441/profi...</td>\n",
              "      <td>https://a2.muscache.com/ac/users/9851441/profi...</td>\n",
              "      <td>Queen Anne</td>\n",
              "      <td>1.0</td>\n",
              "      <td>1.0</td>\n",
              "      <td>['email', 'phone', 'facebook', 'reviews', 'jum...</td>\n",
              "      <td>t</td>\n",
              "      <td>t</td>\n",
              "      <td>8th Avenue West, Seattle, WA 98119, United States</td>\n",
              "      <td>Queen Anne</td>\n",
              "      <td>West Queen Anne</td>\n",
              "      <td>Queen Anne</td>\n",
              "      <td>Seattle</td>\n",
              "      <td>WA</td>\n",
              "      <td>...</td>\n",
              "      <td>2.0</td>\n",
              "      <td>Real Bed</td>\n",
              "      <td>{Internet,\"Wireless Internet\",Kitchen,\"Indoor ...</td>\n",
              "      <td>NaN</td>\n",
              "      <td>100.0</td>\n",
              "      <td>$650.00</td>\n",
              "      <td>$2,300.00</td>\n",
              "      <td>NaN</td>\n",
              "      <td>NaN</td>\n",
              "      <td>1</td>\n",
              "      <td>$0.00</td>\n",
              "      <td>1</td>\n",
              "      <td>1125</td>\n",
              "      <td>6 months ago</td>\n",
              "      <td>t</td>\n",
              "      <td>0</td>\n",
              "      <td>0</td>\n",
              "      <td>0</td>\n",
              "      <td>143</td>\n",
              "      <td>2016-01-04</td>\n",
              "      <td>0</td>\n",
              "      <td>NaN</td>\n",
              "      <td>NaN</td>\n",
              "      <td>NaN</td>\n",
              "      <td>NaN</td>\n",
              "      <td>NaN</td>\n",
              "      <td>NaN</td>\n",
              "      <td>NaN</td>\n",
              "      <td>NaN</td>\n",
              "      <td>NaN</td>\n",
              "      <td>f</td>\n",
              "      <td>NaN</td>\n",
              "      <td>WASHINGTON</td>\n",
              "      <td>f</td>\n",
              "      <td>flexible</td>\n",
              "      <td>f</td>\n",
              "      <td>f</td>\n",
              "      <td>1</td>\n",
              "      <td>NaN</td>\n",
              "      <td>NaN</td>\n",
              "    </tr>\n",
              "    <tr>\n",
              "      <th>4</th>\n",
              "      <td>278830</td>\n",
              "      <td>https://www.airbnb.com/rooms/278830</td>\n",
              "      <td>20160104002432</td>\n",
              "      <td>2016-01-04</td>\n",
              "      <td>Charming craftsman 3 bdm house</td>\n",
              "      <td>Cozy family craftman house in beautiful neighb...</td>\n",
              "      <td>Cozy family craftman house in beautiful neighb...</td>\n",
              "      <td>Cozy family craftman house in beautiful neighb...</td>\n",
              "      <td>none</td>\n",
              "      <td>We are in the beautiful neighborhood of Queen ...</td>\n",
              "      <td>Belltown</td>\n",
              "      <td>The nearest public transit bus (D Line) is 2 b...</td>\n",
              "      <td>NaN</td>\n",
              "      <td>NaN</td>\n",
              "      <td>https://a1.muscache.com/ac/pictures/6120468/b0...</td>\n",
              "      <td>NaN</td>\n",
              "      <td>1452570</td>\n",
              "      <td>https://www.airbnb.com/users/show/1452570</td>\n",
              "      <td>Emily</td>\n",
              "      <td>2011-11-29</td>\n",
              "      <td>Seattle, Washington, United States</td>\n",
              "      <td>Hi, I live in Seattle, Washington but I'm orig...</td>\n",
              "      <td>within an hour</td>\n",
              "      <td>100%</td>\n",
              "      <td>NaN</td>\n",
              "      <td>f</td>\n",
              "      <td>https://a0.muscache.com/ac/users/1452570/profi...</td>\n",
              "      <td>https://a0.muscache.com/ac/users/1452570/profi...</td>\n",
              "      <td>Queen Anne</td>\n",
              "      <td>2.0</td>\n",
              "      <td>2.0</td>\n",
              "      <td>['email', 'phone', 'facebook', 'reviews', 'kba']</td>\n",
              "      <td>t</td>\n",
              "      <td>t</td>\n",
              "      <td>14th Ave W, Seattle, WA 98119, United States</td>\n",
              "      <td>Queen Anne</td>\n",
              "      <td>West Queen Anne</td>\n",
              "      <td>Queen Anne</td>\n",
              "      <td>Seattle</td>\n",
              "      <td>WA</td>\n",
              "      <td>...</td>\n",
              "      <td>3.0</td>\n",
              "      <td>Real Bed</td>\n",
              "      <td>{TV,\"Cable TV\",Internet,\"Wireless Internet\",Ki...</td>\n",
              "      <td>NaN</td>\n",
              "      <td>450.0</td>\n",
              "      <td>NaN</td>\n",
              "      <td>NaN</td>\n",
              "      <td>$700.00</td>\n",
              "      <td>$125.00</td>\n",
              "      <td>6</td>\n",
              "      <td>$15.00</td>\n",
              "      <td>1</td>\n",
              "      <td>1125</td>\n",
              "      <td>7 weeks ago</td>\n",
              "      <td>t</td>\n",
              "      <td>30</td>\n",
              "      <td>60</td>\n",
              "      <td>90</td>\n",
              "      <td>365</td>\n",
              "      <td>2016-01-04</td>\n",
              "      <td>38</td>\n",
              "      <td>2012-07-10</td>\n",
              "      <td>2015-10-24</td>\n",
              "      <td>92.0</td>\n",
              "      <td>9.0</td>\n",
              "      <td>9.0</td>\n",
              "      <td>10.0</td>\n",
              "      <td>10.0</td>\n",
              "      <td>9.0</td>\n",
              "      <td>9.0</td>\n",
              "      <td>f</td>\n",
              "      <td>NaN</td>\n",
              "      <td>WASHINGTON</td>\n",
              "      <td>f</td>\n",
              "      <td>strict</td>\n",
              "      <td>f</td>\n",
              "      <td>f</td>\n",
              "      <td>1</td>\n",
              "      <td>0.89</td>\n",
              "      <td>NaN</td>\n",
              "    </tr>\n",
              "  </tbody>\n",
              "</table>\n",
              "<p>5 rows × 93 columns</p>\n",
              "</div>"
            ],
            "text/plain": [
              "        id                           listing_url  ...  reviews_per_month pricePerSf\n",
              "0   241032   https://www.airbnb.com/rooms/241032  ...               4.07        NaN\n",
              "1   953595   https://www.airbnb.com/rooms/953595  ...               1.48        NaN\n",
              "2  3308979  https://www.airbnb.com/rooms/3308979  ...               1.15        NaN\n",
              "3  7421966  https://www.airbnb.com/rooms/7421966  ...                NaN        NaN\n",
              "4   278830   https://www.airbnb.com/rooms/278830  ...               0.89        NaN\n",
              "\n",
              "[5 rows x 93 columns]"
            ]
          },
          "metadata": {
            "tags": []
          },
          "execution_count": 61
        }
      ]
    },
    {
      "cell_type": "code",
      "metadata": {
        "colab": {
          "base_uri": "https://localhost:8080/",
          "height": 204
        },
        "id": "pI-W5Cw5opRq",
        "outputId": "b2bc8a0b-5a9b-46ba-ff29-cece904e1b0f"
      },
      "source": [
        "calendar.head()"
      ],
      "execution_count": 62,
      "outputs": [
        {
          "output_type": "execute_result",
          "data": {
            "text/html": [
              "<div>\n",
              "<style scoped>\n",
              "    .dataframe tbody tr th:only-of-type {\n",
              "        vertical-align: middle;\n",
              "    }\n",
              "\n",
              "    .dataframe tbody tr th {\n",
              "        vertical-align: top;\n",
              "    }\n",
              "\n",
              "    .dataframe thead th {\n",
              "        text-align: right;\n",
              "    }\n",
              "</style>\n",
              "<table border=\"1\" class=\"dataframe\">\n",
              "  <thead>\n",
              "    <tr style=\"text-align: right;\">\n",
              "      <th></th>\n",
              "      <th>listing_id</th>\n",
              "      <th>date</th>\n",
              "      <th>available</th>\n",
              "      <th>price</th>\n",
              "    </tr>\n",
              "  </thead>\n",
              "  <tbody>\n",
              "    <tr>\n",
              "      <th>0</th>\n",
              "      <td>241032</td>\n",
              "      <td>2016-01-04</td>\n",
              "      <td>t</td>\n",
              "      <td>85.0</td>\n",
              "    </tr>\n",
              "    <tr>\n",
              "      <th>1</th>\n",
              "      <td>241032</td>\n",
              "      <td>2016-01-05</td>\n",
              "      <td>t</td>\n",
              "      <td>85.0</td>\n",
              "    </tr>\n",
              "    <tr>\n",
              "      <th>2</th>\n",
              "      <td>241032</td>\n",
              "      <td>2016-01-06</td>\n",
              "      <td>f</td>\n",
              "      <td>NaN</td>\n",
              "    </tr>\n",
              "    <tr>\n",
              "      <th>3</th>\n",
              "      <td>241032</td>\n",
              "      <td>2016-01-07</td>\n",
              "      <td>f</td>\n",
              "      <td>NaN</td>\n",
              "    </tr>\n",
              "    <tr>\n",
              "      <th>4</th>\n",
              "      <td>241032</td>\n",
              "      <td>2016-01-08</td>\n",
              "      <td>f</td>\n",
              "      <td>NaN</td>\n",
              "    </tr>\n",
              "  </tbody>\n",
              "</table>\n",
              "</div>"
            ],
            "text/plain": [
              "   listing_id        date available  price\n",
              "0      241032  2016-01-04         t   85.0\n",
              "1      241032  2016-01-05         t   85.0\n",
              "2      241032  2016-01-06         f    NaN\n",
              "3      241032  2016-01-07         f    NaN\n",
              "4      241032  2016-01-08         f    NaN"
            ]
          },
          "metadata": {
            "tags": []
          },
          "execution_count": 62
        }
      ]
    },
    {
      "cell_type": "code",
      "metadata": {
        "id": "vJtlG1tZo4jq"
      },
      "source": [
        ""
      ],
      "execution_count": 62,
      "outputs": []
    }
  ]
}